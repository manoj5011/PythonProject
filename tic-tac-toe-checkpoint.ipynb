{
 "cells": [
  {
   "cell_type": "code",
   "execution_count": 1,
   "metadata": {},
   "outputs": [],
   "source": [
    "\n",
    "from IPython.display import clear_output #step1\n",
    "\n",
    "def display_board(board):\n",
    "    clear_output()\n",
    "    print( \"   \" +board[1]+\"   |   \"+board[2]+\"   |   \"+board[3])\n",
    "    print(\"-------|-------|-------\")\n",
    "    print( \"   \" +board[4]+\"   |   \"+board[5]+\"   |   \"+board[6])\n",
    "    print(\"-------|-------|-------\")\n",
    "    print( \"   \" +board[7]+\"   |   \"+board[8]+\"   |   \"+board[9])"
   ]
  },
  {
   "cell_type": "code",
   "execution_count": 2,
   "metadata": {},
   "outputs": [
    {
     "name": "stdout",
     "output_type": "stream",
     "text": [
      "   1   |   2   |   3\n",
      "-------|-------|-------\n",
      "   4   |   5   |   6\n",
      "-------|-------|-------\n",
      "   7   |   8   |   9\n"
     ]
    }
   ],
   "source": [
    "test_board = ['#','1','2','3','4','5','6','7','8','9'] #test\n",
    "display_board(test_board)"
   ]
  },
  {
   "cell_type": "code",
   "execution_count": 3,
   "metadata": {},
   "outputs": [],
   "source": [
    "def player_input(): #step2\n",
    "    player2=\"_\";\n",
    "    player1=\"_\";\n",
    "    while(player1!=\"X\" or player1!=\"O\"):\n",
    "        player1=input(\"please select X or O to start the game-\");\n",
    "        if (player1==\"X\"):\n",
    "            player2=\"O\";\n",
    "            break;\n",
    "        elif (player1==\"O\"):\n",
    "            player2=\"X\";\n",
    "            break;\n",
    "        else:\n",
    "            print(\"Please select either X or O\") \n",
    "            \n",
    "    if( (player1=='X' and  player2==\"O\") or (player1=='O' and player2==\"X\")):\n",
    "        return print(f\"player1 selected {player1},so player2 has to take {player2}\"),player1,player2;"
   ]
  },
  {
   "cell_type": "code",
   "execution_count": 4,
   "metadata": {},
   "outputs": [],
   "source": [
    "#player_input() #test2\n",
    "    \n",
    " "
   ]
  },
  {
   "cell_type": "code",
   "execution_count": 5,
   "metadata": {},
   "outputs": [],
   "source": [
    "def place_marker(board, marker, position): #step3\n",
    "    #position=input(\"please select a number between (1-9):\");\n",
    "    board[position]=marker;\n",
    "    "
   ]
  },
  {
   "cell_type": "code",
   "execution_count": 6,
   "metadata": {
    "scrolled": true
   },
   "outputs": [
    {
     "name": "stdout",
     "output_type": "stream",
     "text": [
      "   1   |   2   |   3\n",
      "-------|-------|-------\n",
      "   4   |   X   |   6\n",
      "-------|-------|-------\n",
      "   7   |   8   |   9\n"
     ]
    }
   ],
   "source": [
    "place_marker(test_board,\"X\",5) # test3\n",
    "display_board(test_board)"
   ]
  },
  {
   "cell_type": "code",
   "execution_count": 7,
   "metadata": {},
   "outputs": [],
   "source": [
    "def win_check(board, mark): #step4\n",
    "    if ((board[1]==mark and board[2]==mark and board[3]==mark)or  #1st row\n",
    "        (board[4]==mark and board[5]==mark and board[6]==mark)or  #2st row\n",
    "        (board[7]==mark and board[8]==mark and board[9]==mark)or  #3st row\n",
    "        (board[1]==mark and board[4]==mark and board[7]==mark)or  #1st column\n",
    "        (board[2]==mark and board[5]==mark and board[8]==mark)or  #2st column\n",
    "        (board[3]==mark and board[6]==mark and board[9]==mark)or  #3st column\n",
    "        (board[1]==mark and board[5]==mark and board[9]==mark)or  #l-r diaginal\n",
    "        (board[3]==mark and board[5]==mark and board[7]==mark)):  #r-l diagonal\n",
    "        return True;\n",
    "    else:\n",
    "        return False;\n",
    "    \n",
    "    "
   ]
  },
  {
   "cell_type": "code",
   "execution_count": 8,
   "metadata": {},
   "outputs": [
    {
     "data": {
      "text/plain": [
       "False"
      ]
     },
     "execution_count": 8,
     "metadata": {},
     "output_type": "execute_result"
    }
   ],
   "source": [
    "win_check(test_board,'X') #test 4"
   ]
  },
  {
   "cell_type": "code",
   "execution_count": 9,
   "metadata": {},
   "outputs": [],
   "source": [
    "from random import randint #step5\n",
    "\n",
    "def choose_first():\n",
    "    first_player=randint(1,2);\n",
    "    print(f\"player{first_player} should start the game.\")\n",
    "    return first_player\n",
    "    "
   ]
  },
  {
   "cell_type": "code",
   "execution_count": 10,
   "metadata": {},
   "outputs": [
    {
     "name": "stdout",
     "output_type": "stream",
     "text": [
      "player2 should start the game.\n"
     ]
    },
    {
     "data": {
      "text/plain": [
       "2"
      ]
     },
     "execution_count": 10,
     "metadata": {},
     "output_type": "execute_result"
    }
   ],
   "source": [
    "choose_first() #test5"
   ]
  },
  {
   "cell_type": "code",
   "execution_count": 11,
   "metadata": {},
   "outputs": [],
   "source": [
    "def space_check(board, position): #step6\n",
    "    if(board[position]==\"X\" or board[position]=='O'):\n",
    "        return False;\n",
    "    else:\n",
    "        return True;"
   ]
  },
  {
   "cell_type": "code",
   "execution_count": 12,
   "metadata": {},
   "outputs": [
    {
     "data": {
      "text/plain": [
       "True"
      ]
     },
     "execution_count": 12,
     "metadata": {},
     "output_type": "execute_result"
    }
   ],
   "source": [
    "space_check(test_board,3) #test6"
   ]
  },
  {
   "cell_type": "code",
   "execution_count": 13,
   "metadata": {},
   "outputs": [],
   "source": [
    "def full_board_check(board): #step7\n",
    "    if((board[1]==\"X\" or board[1]==\"O\")and\n",
    "       (board[2]==\"X\" or board[2]==\"O\")and\n",
    "       (board[3]==\"X\" or board[3]==\"O\")and\n",
    "       (board[4]==\"X\" or board[4]==\"O\")and\n",
    "       (board[5]==\"X\" or board[5]==\"O\")and \n",
    "       (board[6]==\"X\" or board[6]==\"O\")and \n",
    "       (board[7]==\"X\" or board[7]==\"O\")and\n",
    "       (board[8]==\"X\" or board[8]==\"O\")and\n",
    "       (board[9]==\"X\" or board[9]==\"O\")):\n",
    "        return True;\n",
    "    else:\n",
    "        return False;"
   ]
  },
  {
   "cell_type": "code",
   "execution_count": 14,
   "metadata": {},
   "outputs": [
    {
     "data": {
      "text/plain": [
       "False"
      ]
     },
     "execution_count": 14,
     "metadata": {},
     "output_type": "execute_result"
    }
   ],
   "source": [
    "full_board_check(test_board)"
   ]
  },
  {
   "cell_type": "code",
   "execution_count": 15,
   "metadata": {},
   "outputs": [],
   "source": [
    "def player_choice(board): #step8\n",
    "    position=int(input(\"please enter the position between (1-9):\"));\n",
    "    check_if_free=space_check(board,position);\n",
    "    if (check_if_free==True):\n",
    "        return position;\n",
    "    else:\n",
    "        print(f\"The block {position} is already filled\");\n",
    "        return player_choice(board)\n",
    "       \n",
    "        \n",
    "    \n",
    "\n",
    "    "
   ]
  },
  {
   "cell_type": "code",
   "execution_count": 16,
   "metadata": {},
   "outputs": [],
   "source": [
    "#player_choice(test_board)"
   ]
  },
  {
   "cell_type": "code",
   "execution_count": 21,
   "metadata": {},
   "outputs": [],
   "source": [
    "def replay(): #step9\n",
    "    replay=input(\"please enter Y if you want to replay otherwise N-\");\n",
    "    if (replay.lower()=='y'):\n",
    "        return True;\n",
    "    elif (replay.lower()!='y' and replay.lower()!='n'):\n",
    "        return print(\"Please give input only as Y or N\");\n",
    "    else:\n",
    "        print(\"game exit successfully.\")\n",
    "        return False;"
   ]
  },
  {
   "cell_type": "code",
   "execution_count": 18,
   "metadata": {},
   "outputs": [],
   "source": [
    "#replay() #test9"
   ]
  },
  {
   "cell_type": "code",
   "execution_count": 19,
   "metadata": {},
   "outputs": [
    {
     "name": "stdout",
     "output_type": "stream",
     "text": [
      "Welcome to Tic Tac Toe!\n"
     ]
    }
   ],
   "source": [
    "#main code\n",
    "\n",
    "print('Welcome to Tic Tac Toe!')\n",
    "\n",
    "#while True:\n",
    "    # Set the game up here\n",
    "    #pass\n",
    "\n",
    "    #while game_on:\n",
    "        #Player 1 Turn\n",
    "        \n",
    "        \n",
    "        # Player2's turn.\n",
    "            \n",
    "            #pass\n",
    "\n",
    "    #if not replay():\n",
    "        #break"
   ]
  },
  {
   "cell_type": "code",
   "execution_count": 22,
   "metadata": {},
   "outputs": [
    {
     "name": "stdout",
     "output_type": "stream",
     "text": [
      "   O   |   X   |   X\n",
      "-------|-------|-------\n",
      "   O   |   5   |   6\n",
      "-------|-------|-------\n",
      "   O   |   8   |   9\n",
      "Player1 Won!!!!\n",
      "please enter Y if you want to replay otherwise N-n\n",
      "game exit successfully.\n"
     ]
    }
   ],
   "source": [
    "print('Welcome to Tic Tac Toe!')\n",
    "start=input(\"Enter Y to play and N to exit-\");\n",
    "if(start.lower()==\"y\"):\n",
    "    play=True;\n",
    "else:\n",
    "    play=False;\n",
    "    print(\"you have exit the game succesfully.\");\n",
    "\n",
    "while(play):\n",
    "    test_board = ['#','1','2','3','4','5','6','7','8','9'] \n",
    "    display_board(test_board)\n",
    "    (a,p1,p2)=player_input()\n",
    "    turn=choose_first()\n",
    "    \n",
    "    while(full_board_check(test_board)==False):\n",
    "        if(turn==1):\n",
    "            print(\"player1 turn:\")\n",
    "            position= player_choice(test_board)\n",
    "            place_marker(test_board,p1,position)\n",
    "            display_board(test_board)\n",
    "            turn=2;\n",
    "            if(win_check(test_board,p1)==True):\n",
    "                print(\"Player1 Won!!!!\")\n",
    "                break\n",
    "        else:\n",
    "            print(\"player2 turn:\")\n",
    "            position= player_choice(test_board)\n",
    "            place_marker(test_board,p2,position)\n",
    "            display_board(test_board)\n",
    "            turn=1;\n",
    "            if(win_check(test_board,p2)==True):\n",
    "                print(\"Player2 Won!!!!\")\n",
    "                break\n",
    "    else:\n",
    "        print(\"Draw game!\")\n",
    "        \n",
    "    \n",
    "    play=replay();\n",
    "    \n",
    "    \n",
    "    \n",
    "    \n",
    "    \n",
    "    \n",
    "    \n",
    "    \n",
    "    "
   ]
  },
  {
   "cell_type": "code",
   "execution_count": null,
   "metadata": {},
   "outputs": [],
   "source": []
  },
  {
   "cell_type": "code",
   "execution_count": null,
   "metadata": {},
   "outputs": [],
   "source": []
  },
  {
   "cell_type": "code",
   "execution_count": null,
   "metadata": {},
   "outputs": [],
   "source": []
  },
  {
   "cell_type": "code",
   "execution_count": null,
   "metadata": {},
   "outputs": [],
   "source": []
  },
  {
   "cell_type": "code",
   "execution_count": null,
   "metadata": {},
   "outputs": [],
   "source": []
  },
  {
   "cell_type": "code",
   "execution_count": null,
   "metadata": {},
   "outputs": [],
   "source": []
  }
 ],
 "metadata": {
  "kernelspec": {
   "display_name": "Python 3",
   "language": "python",
   "name": "python3"
  },
  "language_info": {
   "codemirror_mode": {
    "name": "ipython",
    "version": 3
   },
   "file_extension": ".py",
   "mimetype": "text/x-python",
   "name": "python",
   "nbconvert_exporter": "python",
   "pygments_lexer": "ipython3",
   "version": "3.8.3"
  }
 },
 "nbformat": 4,
 "nbformat_minor": 4
}
